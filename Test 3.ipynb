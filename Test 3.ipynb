{
 "cells": [
  {
   "cell_type": "code",
   "execution_count": 1,
   "metadata": {},
   "outputs": [],
   "source": [
    "#Python Initiation\n",
    "import matplotlib\n",
    "import numpy as np\n",
    "import matplotlib.pyplot as plt\n",
    "from scipy.interpolate import make_interp_spline, BSpline\n",
    "import pandas as pd\n",
    "import ipywidgets as widgets\n",
    "import time\n",
    "import math\n",
    "from IPython.display import display\n",
    "\n",
    "#Graph Formatting\n",
    "fig_size = plt.rcParams[\"figure.figsize\"]\n",
    "fig_size[0] = 14\n",
    "fig_size[1] = 10\n",
    "plt.rcParams[\"figure.figsize\"] = fig_size\n",
    "Res=100 #Resoultion of the calulations\n",
    "\n",
    "#Graph Font Edit\n",
    "font = {'family':'Times New Roman',\n",
    "        'weight' : 'bold',\n",
    "        'size'   : 22}\n",
    "matplotlib.rc('font', **font)\n"
   ]
  },
  {
   "cell_type": "code",
   "execution_count": 12,
   "metadata": {},
   "outputs": [
    {
     "name": "stdout",
     "output_type": "stream",
     "text": [
      "Part A: 0.26935735937767086 mm\n",
      "Part B: 2.76 kg/s\n",
      "Part C: 27.08 kg/s\n",
      "Part D: 1.91 kg/s\n"
     ]
    }
   ],
   "source": [
    "#Question 1\n",
    "#Triplet Injector \n",
    "holes = 127\n",
    "OxDen = 1448 #Oxidizer density kg/m^3\n",
    "FDen = 1000 #Fuel Density | kg/m^3\n",
    "ChamberPressure = 1200 #Chamber Pressure | psia w/ 20% loss\n",
    "Cd = 0.88 #Discharge Coefficient\n",
    "VFR = 0.0187 #Volume Flow Rate | m^3/s\n",
    "oxholes = holes*2\n",
    "\n",
    "#A | Diameter of the oxidizer hole in mm\n",
    "WdotOx_A=OxDen*VFR\n",
    "MdotOx_A=WdotOx_A/9.81 #Mass Flowrate of Oxidizer | kg/s\n",
    "P1=ChamberPressure*6894.75 #Chamber Pressure |Pa\n",
    "ΔP=0.2*P1      #Change in pressure | Pa\n",
    "ρOx=OxDen*9.8\n",
    "A_IOx=(MdotOx_A)/(Cd*((2*ρOx*ΔP)**(1/2))) #Area of Oxidizer Injector\n",
    "Ao=A_IOx*1000*1000 #Converting m**2 to mm**2\n",
    "A_hole = Ao/oxholes\n",
    "Dox=(A_hole/(np.pi/4))**(1/2)\n",
    "\n",
    "print('Part A:',round(Dox,20),'mm')\n",
    "\n",
    "#B | Mass flow rate of the oxidizer.\n",
    "WdotOx_A=OxDen*VFR\n",
    "MdotOx_A=WdotOx_A/9.81 #Mass Flowrate of Oxidizer | kg/s\n",
    "print('Part B:',round(MdotOx_A,2),'kg/s')\n",
    "\n",
    "#C | Weight flow rate of the oxidizer.\n",
    "WdotOx_A=OxDen*VFR #Weight Flowrate of Ox | kg/s\n",
    "print('Part C:',round(WdotOx_A,2),'kg/s')\n",
    "\n",
    "#D | Injection velocity in m/sec for oxidizer.\n",
    "\n",
    "print('Part D:',round(MdotF_A,2),'kg/s')"
   ]
  },
  {
   "cell_type": "code",
   "execution_count": 2,
   "metadata": {},
   "outputs": [
    {
     "name": "stdout",
     "output_type": "stream",
     "text": [
      "0.4444444444444444 ft\n"
     ]
    }
   ],
   "source": [
    "#Question 2\n",
    "\n",
    "#input\n",
    "PassW = (4)/12     #Width of passage | ft\n",
    "PassH = (8)/12    #Height of passage | ft\n",
    "\n",
    "Ar=PassW*PassH       #Area of passage | ft^2\n",
    "Pr=(PassW+PassH)*2   #Permimeter of Passage | ft\n",
    "D=4*Ar/Pr            #Diameter of Passage | ft\n",
    "print(D,\"ft\")"
   ]
  },
  {
   "cell_type": "code",
   "execution_count": 13,
   "metadata": {},
   "outputs": [
    {
     "name": "stdout",
     "output_type": "stream",
     "text": [
      "Steady state heat flux: 367097.3472794959 Watts/m^2\n",
      "Temperature on the gas wall: 319.47 K\n",
      "Temperature on the liquid wall: 310.929 K\n",
      "\n",
      "Change in Gas Film Coefficents:\n",
      "Gas Film %: 50\n",
      "Liquid Film %: 100\n",
      "Change in Heat Transfer %: 50.2\n",
      "Gas Side Temp: 306.3 K\n",
      "Liquid Side Temp: 302.1 K \n",
      "\n",
      "Gas Film %: 100\n",
      "Liquid Film %: 100\n",
      "Change in Heat Transfer %: 100.0\n",
      "Gas Side Temp: 319.5 K\n",
      "Liquid Side Temp: 310.9 K \n",
      "\n",
      "Gas Film %: 200\n",
      "Liquid Film %: 100\n",
      "Change in Heat Transfer %: 198.2\n",
      "Gas Side Temp: 345.4 K\n",
      "Liquid Side Temp: 328.4 K \n",
      "\n",
      "Gas Film %: 400\n",
      "Liquid Film %: 100\n",
      "Change in Heat Transfer %: 389.4\n",
      "Gas Side Temp: 395.8 K\n",
      "Liquid Side Temp: 362.5 K \n",
      "\n",
      "Change in Liquid Film Coefficents:\n",
      "Gas Film %: 50\n",
      "Liquid Film %: 100\n",
      "Change in Heat Transfer %: 99.4\n",
      "Gas Side Temp: 337.0 K\n",
      "Liquid Side Temp: 328.5 K \n",
      "\n",
      "Gas Film %: 25\n",
      "Liquid Film %: 100\n",
      "Change in Heat Transfer %: 98.2\n",
      "Gas Side Temp: 371.5 K\n",
      "Liquid Side Temp: 363.1 K \n",
      "\n",
      "Gas Film %: 12.5\n",
      "Liquid Film %: 100\n",
      "Change in Heat Transfer %: 95.9\n",
      "Gas Side Temp: 438.1 K\n",
      "Liquid Side Temp: 429.9 K \n",
      "\n",
      "Gas Film %: 6.25\n",
      "Liquid Film %: 100\n",
      "Change in Heat Transfer %: 91.6\n",
      "Gas Side Temp: 562.2 K\n",
      "Liquid Side Temp: 554.4 K \n",
      "\n"
     ]
    }
   ],
   "source": [
    "#Question 3\n",
    "hg = 127            #Gas-film coefficient W/m2-∘C\n",
    "hl = 20590          #Liquid-film coefficient W/m2-∘C\n",
    "Tg = 3210    #Average gas temperature ∘K\n",
    "Tl = 293.1    #Average liquid bulk temperature ∘K\n",
    "k = 37.48           #Average conductivity W/m2-K/m\n",
    "tw = 0.872          #mm\n",
    "tw = tw/1000        #wall thickness in meters\n",
    "q =(Tg-Tl)/((1/hg)+(tw/k)+(1/hl))\n",
    "Twl = q/hl+Tl       #Temperature on the liquid wall\n",
    "Twg = -(q/hg-Tg)    #Temperature on the gas wall\n",
    "print(\"Steady state heat flux:\",q,\"Watts/m^2\")\n",
    "print(\"Temperature on the gas wall:\",round(Twg,3),\"K\")\n",
    "print(\"Temperature on the liquid wall:\",round(Twl,3),\"K\\n\")\n",
    "\n",
    "Gas = [50,100,200,400]\n",
    "Liquid = [50,25,12.5,6.25]\n",
    "\n",
    "print(\"Change in Gas Film Coefficents:\")\n",
    "for x in Gas:\n",
    "    y=100\n",
    "    hg_=hg*x/100\n",
    "    q_ =(Tg-Tl)/((1/hg_)+(tw/k)+(1/hl))\n",
    "    Twl_ = q_/hl+Tl     #Temperature on the liquid wall\n",
    "    Twg_ = -(q_/hg_-Tg) #Temperature on the gas wall\n",
    "    print(\"Gas Film %:\",x)\n",
    "    print(\"Liquid Film %:\",y)\n",
    "    print(\"Change in Heat Transfer %:\",round(q_/q*100,1))\n",
    "    print(\"Gas Side Temp:\",round(Twg_,1),\"K\")\n",
    "    print(\"Liquid Side Temp:\",round(Twl_,1),\"K \\n\")\n",
    "\n",
    "\n",
    "print(\"Change in Liquid Film Coefficents:\")\n",
    "for x in Liquid:\n",
    "    y=100\n",
    "    hl_=hl*x/100\n",
    "    q_ =(Tg-Tl)/((1/hg)+(tw/k)+(1/hl_))\n",
    "    Twl_ = q_/hl_+Tl       #Temperature on the liquid wall\n",
    "    Twg_ = -(q_/hg-Tg)     #Temperature on the gas wall\n",
    "    print(\"Gas Film %:\",x)\n",
    "    print(\"Liquid Film %:\",y)\n",
    "    print(\"Change in Heat Transfer %:\",round(q_/q*100,1))\n",
    "    print(\"Gas Side Temp:\",round(Twg_,1),\"K\")\n",
    "    print(\"Liquid Side Temp:\",round(Twl_,1),\"K \\n\")"
   ]
  },
  {
   "cell_type": "code",
   "execution_count": 6,
   "metadata": {},
   "outputs": [
    {
     "name": "stdout",
     "output_type": "stream",
     "text": [
      "0.05577427821522309\n",
      "The pressure drop is: 213063.2 Pa\n",
      "Or equal to: 30.9 Psi or 4449.9 Psf\n"
     ]
    }
   ],
   "source": [
    "#Question 4\n",
    "PassW = (0.5)/12     #Width of passage | ft\n",
    "PassH = (0.75)/12    #Height of passage | ft\n",
    "γ=46.75               #coolant | lb/ft3\n",
    "Lp=40/12             #Length of Passage | ft\n",
    "Vc=35                #Average velocity of coolant | ft/s\n",
    "Re=100000             #Average Reynolds number | unitless\n",
    "ε=0.00085            #slippyness of commercial steel\n",
    "\n",
    "#Conversions\n",
    "ρ=γ*16.01846        #Density of coolant | kg/m^2\n",
    "PassW=PassW*0.3048  #Passage Width | m\n",
    "PassH=PassH*0.3048  #Passage height | m\n",
    "Lp=Lp*0.3048        #Passage length | m\n",
    "Vc=Vc*0.3048        #Velocity flow | m/s\n",
    "\n",
    "\n",
    "#Calculations\n",
    "Ar=PassW*PassH       #Area of pasage | ft^2\n",
    "Pr=(PassW+PassH)*2   #Permimeter of Passage | ft\n",
    "D=4*Ar/Pr            #Diameter of Passage | ft\n",
    "εd=ε/D               #Epsilon by diameter\n",
    "print(εd)\n",
    "f=0.075              #Friction factor from figure 8.20 using Epsilon over Diameter and Reynolds\n",
    "ΔP = f*(Lp/D)*0.5*ρ*Vc**2  #Pressure drop for horizontal pipe | Pa\n",
    "print(\"The pressure drop is:\",round(ΔP,1), \"Pa\")\n",
    "print(\"Or equal to:\",round(ΔP*0.00014503773,1), \"Psi or\",round(ΔP*0.00014503773*12*12,1), \"Psf\")\n"
   ]
  },
  {
   "cell_type": "markdown",
   "metadata": {},
   "source": [
    "### Question 5\n",
    "#### Answers:\n",
    "- i) a,b,c\n",
    "- ii) d,e\n",
    "- iii) d\n",
    "- iv) e\n",
    "- v) e\n",
    "- vi) a"
   ]
  },
  {
   "cell_type": "code",
   "execution_count": null,
   "metadata": {},
   "outputs": [],
   "source": []
  }
 ],
 "metadata": {
  "kernelspec": {
   "display_name": "Python 3",
   "language": "python",
   "name": "python3"
  },
  "language_info": {
   "codemirror_mode": {
    "name": "ipython",
    "version": 3
   },
   "file_extension": ".py",
   "mimetype": "text/x-python",
   "name": "python",
   "nbconvert_exporter": "python",
   "pygments_lexer": "ipython3",
   "version": "3.7.6"
  }
 },
 "nbformat": 4,
 "nbformat_minor": 4
}
