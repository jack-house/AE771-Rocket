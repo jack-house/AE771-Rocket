{
 "cells": [
  {
   "cell_type": "code",
   "execution_count": null,
   "metadata": {},
   "outputs": [],
   "source": [
    "#Plotting the Table\n",
    "import plotly.graph_objects as go\n",
    "headerColor = 'gray'\n",
    "figu = go.Figure(data=[go.Table(\n",
    "  header=dict(\n",
    "    values=['<b>Parameter</b>','<b>Ideal Value</b>','<b>Unit</b>'],\n",
    "    line_color='black',\n",
    "    fill_color=headerColor,\n",
    "    align=['left','center'],\n",
    "    font=dict(color='white', size=14) #12\n",
    "  ),\n",
    "  cells=dict(\n",
    "    values=[\n",
    "      ['Actual Oxidizer Mass Flowrate', 'Actual Fuel Mass Flowrate', 'Liquid Weight Density of Oxygen (Oxidizer)', 'Liquid Weight Density of Hydrogen (Fuel)', 'Chamber Pressure','Change in Pressure','Discharge Coefficient of Injector','Diameter of the Chamber','Area of the Chamber','Area of the Holes','Injector Angle','Required Area of Oxidizer Injector','Required Area of Fuel Injector','Final Area of Oxidizer Injector','Final Area of Fuel Injector','Oxidizer Hole Diameter','Fuel Hole Diameter','Radial Space Between Holes','Number of Circle Pairs of Oxy/Fuel Holes'],\n",
    "      [round(MdotOx_A,3),round(MdotF_A,3),round(ρOx,3),round(ρF,3),round(P1,3),round(ΔP,3),round(Cd,3),round(Dc,3),round(AC,3),round(HoleSize,3),round(θI,3),round(Ao,3),round(AF,3),round(A_OxyNew,3),round(FArea,3),round(D_OxyNew,2),round(HoleDiam,3),round(TreeSpace,3),Treelines/2],\n",
    "      ['kg/sec','kg/sec','N/m^3','N/m^3','Pa','Pa','Unitless','mm','mm^2','mm^2','degrees','mm^2','mm^2','mm^2','mm^2','mm','mm','mm']],\n",
    "    line_color='black',\n",
    "    # 2-D list of colors for alternating rows\n",
    "    #fill_color = [[rowOddColor,rowEvenColor,rowOddColor,rowEvenColor,rowOddColor]*10],\n",
    "    align = ['left', 'center'],\n",
    "    font = dict(color = 'black', size = 12) #11\n",
    "    ))\n",
    "])\n",
    "\n",
    "figu.show(renderer=\"notebook\")\n"
   ]
  }
 ],
 "metadata": {
  "kernelspec": {
   "display_name": "Python 3",
   "language": "python",
   "name": "python3"
  },
  "language_info": {
   "codemirror_mode": {
    "name": "ipython",
    "version": 3
   },
   "file_extension": ".py",
   "mimetype": "text/x-python",
   "name": "python",
   "nbconvert_exporter": "python",
   "pygments_lexer": "ipython3",
   "version": "3.7.4"
  }
 },
 "nbformat": 4,
 "nbformat_minor": 2
}
