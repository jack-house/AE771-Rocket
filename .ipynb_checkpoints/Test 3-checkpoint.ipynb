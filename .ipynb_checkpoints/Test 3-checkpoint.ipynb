{
 "cells": [
  {
   "cell_type": "code",
   "execution_count": 1,
   "metadata": {},
   "outputs": [],
   "source": [
    "#Python Initiation\n",
    "import matplotlib\n",
    "import numpy as np\n",
    "import matplotlib.pyplot as plt\n",
    "from scipy.interpolate import make_interp_spline, BSpline\n",
    "import pandas as pd\n",
    "import ipywidgets as widgets\n",
    "import time\n",
    "import math\n",
    "from IPython.display import display\n",
    "\n",
    "#Graph Formatting\n",
    "fig_size = plt.rcParams[\"figure.figsize\"]\n",
    "fig_size[0] = 14\n",
    "fig_size[1] = 10\n",
    "plt.rcParams[\"figure.figsize\"] = fig_size\n",
    "Res=100 #Resoultion of the calulations\n",
    "\n",
    "#Graph Font Edit\n",
    "font = {'family':'Times New Roman',\n",
    "        'weight' : 'bold',\n",
    "        'size'   : 22}\n",
    "matplotlib.rc('font', **font)\n"
   ]
  },
  {
   "cell_type": "code",
   "execution_count": 36,
   "metadata": {},
   "outputs": [
    {
     "name": "stdout",
     "output_type": "stream",
     "text": [
      "Part A: 1.492691 mm\n",
      "Part B: 27.08 kg/s\n",
      "Part C: 265.63 N/s\n",
      "Part D: 42.07 m/s\n"
     ]
    }
   ],
   "source": [
    "#Question 1\n",
    "#Triplet Injector \n",
    "holes = 127\n",
    "OxDen = 1448 #Oxidizer density kg/m^3\n",
    "FDen = 1000 #Fuel Density | kg/m^3\n",
    "ChamberPressure = 1200 #Chamber Pressure | psia w/ 20% loss\n",
    "Cd = 0.88 #Discharge Coefficient\n",
    "VFR = 0.0187 #Volume Flow Rate | m^3/s\n",
    "oxholes = holes*2\n",
    "\n",
    "#A | Diameter of the oxidizer hole in mm\n",
    "MdotOx_A=OxDen*VFR\n",
    "WdotOx_A=MdotOx_A*9.81 #Mass Flowrate of Oxidizer | kg/s\n",
    "P1=ChamberPressure*6894.75 #Chamber Pressure |Pa\n",
    "ΔP=0.2*P1      #Change in pressure | Pa\n",
    "ρOx=OxDen\n",
    "A_IOx=(MdotOx_A)/(Cd*((2*ρOx*ΔP)**(1/2))) #Area of Oxidizer Injector\n",
    "Ao=A_IOx*1000*1000 #Converting m**2 to mm**2\n",
    "A_hole = Ao/oxholes\n",
    "Dox=(A_hole/(np.pi/4))**(1/2)\n",
    "\n",
    "print('Part A:',round(Dox,6),'mm')\n",
    "\n",
    "#B | Mass flow rate of the oxidizer.\n",
    "print('Part B:',round(MdotOx_A,2),'kg/s')\n",
    "\n",
    "#C | Weight flow rate of the oxidizer.\n",
    "print('Part C:',round(WdotOx_A,2),'N/s')\n",
    "\n",
    "#D | Injection velocity in m/sec for oxidizer.\n",
    "v=Cd*np.sqrt(2*(ΔP/OxDen))\n",
    "print('Part D:',round(v,2),'m/s')"
   ]
  },
  {
   "cell_type": "code",
   "execution_count": 2,
   "metadata": {},
   "outputs": [
    {
     "name": "stdout",
     "output_type": "stream",
     "text": [
      "0.4444444444444444 ft\n"
     ]
    }
   ],
   "source": [
    "#Question 2\n",
    "\n",
    "#input\n",
    "PassW = (4)/12     #Width of passage | ft\n",
    "PassH = (8)/12    #Height of passage | ft\n",
    "\n",
    "Ar=PassW*PassH       #Area of passage | ft^2\n",
    "Pr=(PassW+PassH)*2   #Permimeter of Passage | ft\n",
    "D=4*Ar/Pr            #Diameter of Passage | ft\n",
    "print(D,\"ft\")"
   ]
  },
  {
   "cell_type": "code",
   "execution_count": 28,
   "metadata": {},
   "outputs": [
    {
     "name": "stdout",
     "output_type": "stream",
     "text": [
      "Overall Film Coefficent: 125.852 Watts/m2-∘C\n",
      "Steady state heat flux: 367097.3472794959 Watts/m^2\n",
      "Temperature on the gas wall: 319.47 K\n",
      "Temperature on the liquid wall: 310.929 K\n",
      "\n"
     ]
    }
   ],
   "source": [
    "#Question 3\n",
    "hg = 127            #Gas-film coefficient W/m2-∘C\n",
    "hl = 20590          #Liquid-film coefficient W/m2-∘C\n",
    "Tg = 3210    #Average gas temperature ∘K\n",
    "Tl = 293.1    #Average liquid bulk temperature ∘K\n",
    "k = 37.48           #Average conductivity W/m2-K/m\n",
    "tw = 0.872          #mm\n",
    "tw = tw/1000        #wall thickness in meters\n",
    "q =(Tg-Tl)/((1/hg)+(tw/k)+(1/hl))\n",
    "Twl = q/hl+Tl       #Temperature on the liquid wall\n",
    "Twg = -(q/hg-Tg)    #Temperature on the gas wall\n",
    "h=q/(Tg-Tl)         #Overall Film Coefficent\n",
    "print(\"Overall Film Coefficent:\",round(h,3),\"Watts/m2-∘C\")\n",
    "print(\"Steady state heat flux:\",q,\"Watts/m^2\")\n",
    "print(\"Temperature on the gas wall:\",round(Twg,3),\"K\")\n",
    "print(\"Temperature on the liquid wall:\",round(Twl,3),\"K\\n\")\n"
   ]
  },
  {
   "cell_type": "code",
   "execution_count": 30,
   "metadata": {},
   "outputs": [
    {
     "name": "stdout",
     "output_type": "stream",
     "text": [
      "0.016999999999999998\n",
      "The pressure drop is: 2727.1 psf\n"
     ]
    }
   ],
   "source": [
    "#Question 4\n",
    "PassW = (0.5)/12     #Width of passage | ft\n",
    "PassH = (0.75)/12    #Height of passage | ft\n",
    "ρ=46.75/32.2         #coolant | lb/ft3\n",
    "Lp=40/12             #Length of Passage | ft\n",
    "Vc=35                #Average velocity of coolant | ft/s\n",
    "Re=100000             #Average Reynolds number | unitless\n",
    "ε=0.00085            #slippyness of cast iron\n",
    "\n",
    "\n",
    "#Calculations\n",
    "Ar=PassW*PassH       #Area of pasage | ft^2\n",
    "Pr=(PassW+PassH)*2   #Permimeter of Passage | ft\n",
    "D=4*Ar/Pr            #Diameter of Passage | ft\n",
    "εd=ε/D               #Epsilon by diameter\n",
    "print(εd)\n",
    "f=0.046              #Friction factor from figure 8.20 using Epsilon over Diameter and Reynolds\n",
    "ΔP = f*(Lp/D)*0.5*ρ*Vc**2  #Pressure drop for horizontal pipe | Pa\n",
    "print(\"The pressure drop is:\",round(ΔP,1), \"psf\")\n"
   ]
  },
  {
   "cell_type": "markdown",
   "metadata": {},
   "source": [
    "### Question 5\n",
    "#### Answers:\n",
    "- i) a,b,c\n",
    "- ii) d,e\n",
    "- iii) d\n",
    "- iv) e\n",
    "- v) e\n",
    "- vi) a"
   ]
  },
  {
   "cell_type": "code",
   "execution_count": null,
   "metadata": {},
   "outputs": [],
   "source": []
  }
 ],
 "metadata": {
  "kernelspec": {
   "display_name": "Python 3",
   "language": "python",
   "name": "python3"
  },
  "language_info": {
   "codemirror_mode": {
    "name": "ipython",
    "version": 3
   },
   "file_extension": ".py",
   "mimetype": "text/x-python",
   "name": "python",
   "nbconvert_exporter": "python",
   "pygments_lexer": "ipython3",
   "version": "3.7.6"
  }
 },
 "nbformat": 4,
 "nbformat_minor": 4
}
