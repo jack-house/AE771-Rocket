{
 "cells": [
  {
   "cell_type": "markdown",
   "metadata": {},
   "source": [
    "# Homework 11 | AE 771\n",
    "### Jack House | May 2020\n",
    "\n",
    "#### Please solve the problems on the following worksheet. In the worksheet, Figure 4.6 refers to Figure 4.7 in the 9th edition. \n",
    "- Recreate Figure 5.4. This figure is in the handout notes for staging. It is not textbook Figure 5.4. \n",
    "- Also, calculate the delta_V from the staging handout (second attachment) for both Single Stage and Two Stage. \n",
    "\n",
    "#### This is due Monday 5/4 at 11:59pm CT.\n"
   ]
  },
  {
   "cell_type": "code",
   "execution_count": 2,
   "metadata": {},
   "outputs": [],
   "source": [
    "#Python Initiation\n",
    "import matplotlib\n",
    "import numpy as np\n",
    "import matplotlib.pyplot as plt\n",
    "from scipy.interpolate import make_interp_spline, BSpline\n",
    "import pandas as pd\n",
    "import ipywidgets as widgets\n",
    "import time\n",
    "import math\n",
    "from IPython.display import display\n",
    "\n",
    "#Graph Formatting\n",
    "fig_size = plt.rcParams[\"figure.figsize\"]\n",
    "fig_size[0] = 14\n",
    "fig_size[1] = 10\n",
    "plt.rcParams[\"figure.figsize\"] = fig_size\n",
    "Res=100 #Resoultion of the calulations\n",
    "\n",
    "#Graph Font Edit\n",
    "font = {'family':'Times New Roman',\n",
    "        'weight' : 'bold',\n",
    "        'size'   : 22}\n",
    "matplotlib.rc('font', **font)\n"
   ]
  },
  {
   "cell_type": "markdown",
   "metadata": {},
   "source": [
    "## -Question 1\n",
    "\n",
    "- a) Reproduce curves of figure 5.4\n",
    "- b) Calculate the \"orbital velocity\" and \"escape velocity\" at 200 and 2150 statute miles altitude above the earth\n",
    "- c) Calculate the orbit altitude for \"geostationary\" or \"geo-synchronous\" satellites\n",
    "- NOTE: Assume earth's mean radius= 4,000 miles"
   ]
  },
  {
   "cell_type": "code",
   "execution_count": 3,
   "metadata": {},
   "outputs": [
    {
     "ename": "SyntaxError",
     "evalue": "invalid syntax (<ipython-input-3-66b24df1ec18>, line 10)",
     "output_type": "error",
     "traceback": [
      "\u001b[1;36m  File \u001b[1;32m\"<ipython-input-3-66b24df1ec18>\"\u001b[1;36m, line \u001b[1;32m10\u001b[0m\n\u001b[1;33m    delta_u=Isp_1*go*np.ln(1/(s_1+l_1))+Isp_2*go*np.ln(1/(s_2+l_2))+....+Isp_n*go*np.ln(1/(s_n+l_n))\u001b[0m\n\u001b[1;37m                                                                        ^\u001b[0m\n\u001b[1;31mSyntaxError\u001b[0m\u001b[1;31m:\u001b[0m invalid syntax\n"
     ]
    }
   ],
   "source": [
    "#For One Stage\n",
    "zeta=ζm\n",
    "delta_u=-c*np.ln(1-zeta)\n",
    "delta_u=-c*np.ln(MR)\n",
    "delta_u=c*np.ln(1/MR)\n",
    "delta_u=Isp*go*np.ln(1/MR)\n",
    "delta_u=Isp*go*np.ln(1/(s+l))\n",
    "\n",
    "#For multistage rockets (n stages)\n",
    "delta_u=Isp_1*go*np.ln(1/(s_1+l_1))+Isp_2*go*np.ln(1/(s_2+l_2))+....+Isp_n*go*np.ln(1/(s_n+l_n))\n",
    "\n",
    "#If all \"n\" stages have idential rocket engines, and l and s, then:\n",
    "delta_u=n*Isp_1*go*np.ln(1/(s_1+l_1))\n",
    "delta_u/c=n*np.ln(1/(s_1+l_overall)**(l/n))\n",
    "l_overall=m_pl/m_o\n",
    "\n"
   ]
  },
  {
   "cell_type": "code",
   "execution_count": 16,
   "metadata": {},
   "outputs": [
    {
     "name": "stdout",
     "output_type": "stream",
     "text": [
      "For a Altitude of 200 miles:\n",
      "\tOrbital Velocity: 10.9 km/s or 35777.49 ft/s\n",
      "\tEscape Velocity: 7.71 km/s or 25298.51 ft/s\n",
      "For a Altitude of 2150 miles:\n",
      "\tOrbital Velocity: 9.0 km/s or 29525.87 ft/s\n",
      "\tEscape Velocity: 6.36 km/s or 20877.95 ft/s\n"
     ]
    }
   ],
   "source": [
    "#Part A |\n",
    "\n",
    "#Part B | Calculate the orbital velocity and escape velocity at the distances above Earth\n",
    "R=6378.1           #Radius of Earth | km\n",
    "d1=200             #Distance above Earth 1 | miles\n",
    "d2=2150            #Distance above Earth 2 | miles\n",
    "Rm1=d1* 1.609      #Statute miles to km\n",
    "Rm2=d2* 1.609      #Statute miles to km\n",
    "G=6.67 * 10**(-11) #Gravitational Constant | m^3*kg^-1*s^-2\n",
    "M=5.972*10**24     #Mass of the Earth | kg\n",
    "ve1=np.sqrt(2*G*M/((R+Rm1)*1000))/1000\n",
    "ve2=np.sqrt(2*G*M/((R+Rm2)*1000))/1000\n",
    "vo1=np.sqrt(G*M/((R+Rm1)*1000))/1000\n",
    "vo2=np.sqrt(G*M/((R+Rm2)*1000))/1000\n",
    "print('For a Altitude of 200 miles:')\n",
    "print('\\tOrbital Velocity:',round(ve1,2),'km/s or',round(ve1*3281,2),'ft/s')\n",
    "print('\\tEscape Velocity:',round(vo1,2),'km/s or',round(vo1*3281,2),'ft/s')\n",
    "print('For a Altitude of 2150 miles:')\n",
    "print('\\tOrbital Velocity:',round(ve2,2),'km/s or',round(ve2*3281,2),'ft/s')\n",
    "print('\\tEscape Velocity:',round(vo2,2),'km/s or',round(vo2*3281,2),'ft/s')\n",
    "\n",
    "#Part C | Calcualte the orbit altitude for geostationary and geo-synchronous satellites\n",
    "re = 4000 #Mean Radius of the Earth | miles"
   ]
  },
  {
   "cell_type": "markdown",
   "metadata": {},
   "source": [
    "## -Question 2\n",
    "\n",
    "### A single stage rocket motor has the following characteristics: Initial, structural, and payload masses are 25,000 lbm, 2000 lbm, and 500 lbm respectively. The engine specific impulse is 300 sec.\n",
    "- a) Determine the velocity increment achievable by this single stage system\n",
    "- b) If this vehicle reaches 200 miles altitude, can it obtain orbital velocity."
   ]
  },
  {
   "cell_type": "code",
   "execution_count": 18,
   "metadata": {},
   "outputs": [
    {
     "name": "stdout",
     "output_type": "stream",
     "text": [
      "a) Velocity Increment: 22242.972 ft/s\n"
     ]
    }
   ],
   "source": [
    "#One stage rocket motor\n",
    "#Given\n",
    "Mo=25000   #Initial rocket mass | lbm\n",
    "M_s=2000   #Structural mass | lbm\n",
    "M_p=500    #Payload mass | lbm\n",
    "Isp=300    #Specific Impulse | seconds\n",
    "s=M_s/Mo   #Structural Fraction\n",
    "l=M_p/Mo   #Payload Fraction\n",
    "go=32.2    #Gravitational Constant\n",
    "\n",
    "#Part A\n",
    "Δu=Isp*go*np.log(1/(s+l))\n",
    "print(\"a) Velocity Increment:\",round(Δu,3),\"ft/s\")\n"
   ]
  },
  {
   "cell_type": "markdown",
   "metadata": {},
   "source": [
    "#### Part B\n",
    "#### If this vehicle reaches 200 miles altitude, can it obtain orbital velocity?\n",
    "\n",
    "- No, Δu only reaches 22,242 ft/s, where from question 1, we know 35,777 ft/s is required for Orbital velocity at 200 miles"
   ]
  },
  {
   "cell_type": "markdown",
   "metadata": {},
   "source": [
    "## -Question 3\n",
    "\n",
    "### An experimental two-stage booster is preparing to launch from Kennedy Space Center. The Booster must deliver a total u_design of 10,000 m/s. The total mass of the second stage, including structure and propellent, is 12,000 kg, 9000 kg of which is propellent. The payload mass is 2000 kg. Isp_1=350 seconds, Isp_2=400 seconds. The structural mass of the first stage is 8000 kg. \n",
    "\n",
    "- What mass of propellent must be loaded on the first stage to achieve a required u_design?\n",
    "- What is the vehicle's total mass at lift-off?"
   ]
  },
  {
   "cell_type": "code",
   "execution_count": 19,
   "metadata": {},
   "outputs": [
    {
     "name": "stdout",
     "output_type": "stream",
     "text": [
      "Mass of the first stage propellant: 119.75 kg.\n",
      "The total mass at lift-off of the vehicle is 22119.75 kg.\n"
     ]
    }
   ],
   "source": [
    "# Two Stage booster at Kennedy Space Center\n",
    "v_des=10000 #Design Velocity of Booster | m/s\n",
    "ms_2=12000  #Mass of the second stage including structure and propellant | kg\n",
    "ms_2p=9000  #Mass of just the stage 2 propellant | kg\n",
    "m_p=2000    #Mass of the payload | kg\n",
    "Isp_1=350   #Isp of the first stage | sec\n",
    "Isp_2=400   #Isp of the second stage |sec\n",
    "go=9.81     #Gravity | m/sec^2\n",
    "ms_1=8000   #Mass of stage 1 structural components | kg\n",
    "\n",
    "#What mass of propellant must be loaded on the first stage to achieve the required design velocity?\n",
    "l_1=m_p/ms_1\n",
    "l_2=0 #Payload Fraction\n",
    "s_2=(ms_2-ms_2p)/ms_2 #Structural Fraction\n",
    "\n",
    "Δu_2=Isp_2*go*np.log(1/(s_2+l_2))\n",
    "Δu_1=v_des-Δu_2\n",
    "ms_1f=((np.exp((Δu_1/Isp_1)/go))**(-1)-l_1)*ms_1  #Mass of the stage 1 fuel | kg\n",
    "print(\"Mass of the first stage propellant:\",round(ms_1f,3),\"kg.\")\n",
    "\n",
    "\n",
    "#What is the vehicles total mass at lift-off?\n",
    "m_T=(ms_2+m_p+ms_1+ms_1f)\n",
    "print(\"The total mass at lift-off of the vehicle is\",round(m_T,3),\"kg.\")"
   ]
  },
  {
   "cell_type": "markdown",
   "metadata": {},
   "source": [
    "# Calculate the delta_V from the staging handout (second attachment) for both Single Stage and Two Stage."
   ]
  },
  {
   "cell_type": "code",
   "execution_count": 23,
   "metadata": {},
   "outputs": [
    {
     "name": "stdout",
     "output_type": "stream",
     "text": [
      "Velocity Increment: 8011.447 m/s\n"
     ]
    }
   ],
   "source": [
    "#Single Stage\n",
    "M_p=84     #Mass Payload | kg\n",
    "M_s=250    #Mass Structure | kg\n",
    "M_pro=1500 #Mass Propellant | kg\n",
    "Mo=M_p+M_s+M_pro  #Initial Mass | kg\n",
    "Isp=480    #Specific Impulse | sec\n",
    "s=M_s/Mo   #Structural Fraction\n",
    "l=M_p/Mo   #Payload Fraction\n",
    "go=9.8     #Gravitational Constant\n",
    "\n",
    "Δu=Isp*go*np.log(1/(s+l))\n",
    "print(\"Velocity Increment:\",round(Δu,3),\"m/s\")"
   ]
  },
  {
   "cell_type": "code",
   "execution_count": 26,
   "metadata": {},
   "outputs": [
    {
     "name": "stdout",
     "output_type": "stream",
     "text": [
      "Velocity Increment: 10383.802 m/s\n"
     ]
    }
   ],
   "source": [
    "#2-stage\n",
    "n=2\n",
    "M_pl=175     #Mass Payload | kg\n",
    "M_pro2=750  #Mass Propellant stage 2 | kg\n",
    "M_s2=250    #Mass Structure stage 2 | kg\n",
    "Mo2=M_pl+M_pro2+M_s2  #Initial Mass\n",
    "Isp_2=480   #Specific Impulse stage 2 | sec\n",
    "M_pro1=750  #Mass Propellant stage 1 | kg\n",
    "M_s1=250    #Mass Structure stage 1 | kg\n",
    "Isp=480    #Specific Impulse stage 1 | sec\n",
    "Mo1=M_pl+M_pro2+M_s2+M_pro1+M_s1  #Initial Mass\n",
    "s_2=M_s2/Mo2   #Structural Fraction\n",
    "l_2=M_pl/Mo2   #Payload Fraction\n",
    "s_1=M_s1/Mo1   #Structural Fraction\n",
    "l_1=M_pl/Mo1   #Payload Fraction\n",
    "go=9.8     #Gravitational Constant\n",
    "\n",
    "Δu=(Isp_1*go*np.log(1/(s_1+l_1)))+(Isp_2*go*np.log(1/(s_2+l_2)))\n",
    "print(\"Velocity Increment:\",round(Δu,3),\"m/s\")"
   ]
  },
  {
   "cell_type": "code",
   "execution_count": null,
   "metadata": {},
   "outputs": [],
   "source": []
  }
 ],
 "metadata": {
  "kernelspec": {
   "display_name": "Python 3",
   "language": "python",
   "name": "python3"
  },
  "language_info": {
   "codemirror_mode": {
    "name": "ipython",
    "version": 3
   },
   "file_extension": ".py",
   "mimetype": "text/x-python",
   "name": "python",
   "nbconvert_exporter": "python",
   "pygments_lexer": "ipython3",
   "version": "3.7.6"
  }
 },
 "nbformat": 4,
 "nbformat_minor": 4
}
