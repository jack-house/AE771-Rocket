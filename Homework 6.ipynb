{
 "cells": [
  {
   "cell_type": "markdown",
   "metadata": {},
   "source": [
    "# AE 771 | Homework #6 | Rocket Propulsion |Dr. Taghavi\n",
    "\n",
    "### Code By Jack House"
   ]
  },
  {
   "cell_type": "code",
   "execution_count": 1,
   "metadata": {},
   "outputs": [],
   "source": [
    "import numpy as np"
   ]
  },
  {
   "cell_type": "markdown",
   "metadata": {},
   "source": [
    "# Example 3-3 | Page 60 of Rocket Propulsion Elements\n",
    "\n",
    "#### Design an ideal nozzle for a rocket propulsion system that operates at 25 km altitude and delivers 5000 N thrust with a chamber pressure of 2.039 MPa and a chamber temperature of 2800 K. For this particular propellant, k = 1.20 and R = 360 J∕kg-K. Determine the throat area, exit area, throat temperature, and exit velocity for optimum expansion."
   ]
  },
  {
   "cell_type": "code",
   "execution_count": 3,
   "metadata": {},
   "outputs": [
    {
     "name": "stdout",
     "output_type": "stream",
     "text": [
      "For Optimum Expansion:\n",
      "Pressure Ratio: 0.00125\n",
      "Area Ratio: 0.0167\n",
      "Temperature @ Throat: 2545 K\n",
      "Ideal Exit Velocity: 2851 m/sec\n",
      "Mass Flowrate: 1.75 kg/sec\n",
      "Throat Area: 13.32 cm^2\n",
      "Exit Area: 798.63 cm^2\n"
     ]
    }
   ],
   "source": [
    "#Homework 6\n",
    "\n",
    "##Complete Example 3.3\n",
    "\n",
    "#Definitions\n",
    "    \n",
    "def IdealExitVelocity (k,R,T1,PR):\n",
    "    v2=np.sqrt(((2*k)/(k-1))*R*T1*(1-PR**((k-1)/k)))\n",
    "    return v2\n",
    "\n",
    "def AreaThroat (mdot,p1,R,T1,k):\n",
    "    At=(mdot/p1)*((R*T1)/(k*(2/(k+1))**((k+1)/(k-1))))**(1/2)\n",
    "    return At\n",
    "\n",
    "\n",
    "#Given\n",
    "alt=25000     #Altitude | Meters\n",
    "p2=2549 #Pressure @ atmo | Pa\n",
    "F=5000        #Thrust | Newtons\n",
    "p1=2039000      #Chamber Pressure | Pa\n",
    "T1=2800       #Chamber Temperature | ⁰K\n",
    "k=1.20        #Specific Heat Ratio | Unitless\n",
    "R=360         #Universal Gas Constant | J/Kg-K\n",
    "\n",
    "#Calculations\n",
    "PR=p2/p1\n",
    "AR=((k+1)/2)**(1/(k-1))*(PR)**(1/k)*(((k+1)/(k-1))*(1-PR**((k-1)/k)))**0.5\n",
    "Tt=((2*T1)/(k+1))\n",
    "v2=IdealExitVelocity(k,R,T1,PR)\n",
    "c=v2\n",
    "mdot=F/c\n",
    "At=AreaThroat(mdot,p1,R,T1,k)*100*100\n",
    "A2=At/AR\n",
    "\n",
    "\n",
    "#Outputs\n",
    "print(\"For Optimum Expansion:\")\n",
    "print(\"Pressure Ratio:\",round(PR,5))\n",
    "print(\"Area Ratio:\",round(AR,4))\n",
    "print(\"Temperature @ Throat:\",int(round(Tt)),\"K\")\n",
    "print(\"Ideal Exit Velocity:\",int(round(v2)),\"m/sec\")\n",
    "print(\"Mass Flowrate:\",round(mdot,2),\"kg/sec\")\n",
    "print(\"Throat Area:\",round(At,2),\"cm^2\")\n",
    "print(\"Exit Area:\",round (A2,2),\"cm^2\")\n"
   ]
  }
 ],
 "metadata": {
  "kernelspec": {
   "display_name": "Python 3",
   "language": "python",
   "name": "python3"
  },
  "language_info": {
   "codemirror_mode": {
    "name": "ipython",
    "version": 3
   },
   "file_extension": ".py",
   "mimetype": "text/x-python",
   "name": "python",
   "nbconvert_exporter": "python",
   "pygments_lexer": "ipython3",
   "version": "3.7.6"
  }
 },
 "nbformat": 4,
 "nbformat_minor": 2
}
