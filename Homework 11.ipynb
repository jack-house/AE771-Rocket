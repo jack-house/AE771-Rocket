{
 "cells": [
  {
   "cell_type": "markdown",
   "metadata": {},
   "source": [
    "# Homework 11 | AE 771\n",
    "### Jack House | May 2020\n",
    "\n",
    "#### Please solve the problems on the following worksheet. In the worksheet, Figure 4.6 refers to Figure 4.7 in the 9th edition. \n",
    "- Recreate Figure 5.4. This figure is in the handout notes for staging. It is not textbook Figure 5.4. \n",
    "- Also, calculate the delta_V from the staging handout (second attachment) for both Single Stage and Two Stage. \n",
    "\n",
    "#### This is due Monday 5/4 at 11:59pm CT.\n"
   ]
  },
  {
   "cell_type": "code",
   "execution_count": 1,
   "metadata": {},
   "outputs": [],
   "source": [
    "#Python Initiation\n",
    "import matplotlib\n",
    "import numpy as np\n",
    "import matplotlib.pyplot as plt\n",
    "from scipy.interpolate import make_interp_spline, BSpline\n",
    "import pandas as pd\n",
    "import ipywidgets as widgets\n",
    "import time\n",
    "import math\n",
    "from IPython.display import display\n",
    "\n",
    "#Graph Formatting\n",
    "fig_size = plt.rcParams[\"figure.figsize\"]\n",
    "fig_size[0] = 14\n",
    "fig_size[1] = 10\n",
    "plt.rcParams[\"figure.figsize\"] = fig_size\n",
    "Res=100 #Resoultion of the calulations\n",
    "\n",
    "#Graph Font Edit\n",
    "font = {'family':'Times New Roman',\n",
    "        'weight' : 'bold',\n",
    "        'size'   : 22}\n",
    "matplotlib.rc('font', **font)\n"
   ]
  },
  {
   "cell_type": "markdown",
   "metadata": {},
   "source": [
    "## -Question 1\n",
    "\n",
    "- a) Reproduce curves of figure 5.4\n",
    "- b) Calculate the \"orbital velocity\" and \"escape velocity\" at 200 and 2150 statute miles altitude above the earth\n",
    "- c) Calculate the orbit altitude for \"geostationary\" or \"geo-synchronous\" satellites\n",
    "- NOTE: Assume earth's mean radius= 4,000 miles"
   ]
  },
  {
   "cell_type": "code",
   "execution_count": null,
   "metadata": {},
   "outputs": [],
   "source": [
    "#For One Stage\n",
    "zeta=ζm\n",
    "delta_u=-c*np.ln(1-zeta)\n",
    "delta_u=-c*np.ln(MR)\n",
    "delta_u=c*np.ln(1/MR)\n",
    "delta_u=Isp*go*np.ln(1/MR)\n",
    "delta_u=Isp*go*np.ln(1/(s+l))\n",
    "\n",
    "#For multistage rockets (n stages)\n",
    "delta_u=Isp_1*go*np.ln(1/(s_1+l_1))+Isp_2*go*np.ln(1/(s_2+l_2))+....+Isp_n*go*np.ln(1/(s_n+l_n))\n",
    "\n",
    "#If all \"n\" stages have idential rocket engines, and l and s, then:\n",
    "delta_u=n*Isp_1*go*np.ln(1/(s_1+l_1))\n",
    "delta_u/c=n*np.ln(1/(s_1+l_overall)**(l/n))\n",
    "l_overall=m_pl/m_o\n",
    "\n"
   ]
  },
  {
   "cell_type": "markdown",
   "metadata": {},
   "source": [
    "## -Question 2\n",
    "\n",
    "### A single stage rocket motor has the following characteristics: Initial, structural, and payload masses are 25,000 lbm, 2000 lbm, and 500 lbm respectively. The engine specific impulse is 300 sec.\n",
    "- a) Determine the velocity increment achievable by this single stage system\n",
    "- b) If this vehicle reaches 200 miles altitude, can it obtain orbital velocity."
   ]
  },
  {
   "cell_type": "code",
   "execution_count": null,
   "metadata": {},
   "outputs": [],
   "source": []
  },
  {
   "cell_type": "markdown",
   "metadata": {},
   "source": [
    "## -Question 3\n",
    "\n",
    "### An experimental two-stage booster is preparing to launch from Kennedy Space Center. The Booster must deliver a total u_design of 10,000 m/s. The total mass of the second stage, including structure and propellent, is 12,000 kg, 9000 kg of which is propellent. The payload mass is 2000 kg. Isp_1=350 seconds, Isp_2=400 seconds. The structural mass of the first stage is 8000 kg. \n",
    "\n",
    "- What mass of propellent must be loaded on the first stage to achieve a required u_design?\n",
    "- What is the vehicle's total mass at lift-off?"
   ]
  },
  {
   "cell_type": "code",
   "execution_count": null,
   "metadata": {},
   "outputs": [],
   "source": []
  },
  {
   "cell_type": "markdown",
   "metadata": {},
   "source": [
    "# Calculate the delta_V from the staging handout (second attachment) for both Single Stage and Two Stage."
   ]
  },
  {
   "cell_type": "code",
   "execution_count": null,
   "metadata": {},
   "outputs": [],
   "source": []
  }
 ],
 "metadata": {
  "kernelspec": {
   "display_name": "Python 3",
   "language": "python",
   "name": "python3"
  },
  "language_info": {
   "codemirror_mode": {
    "name": "ipython",
    "version": 3
   },
   "file_extension": ".py",
   "mimetype": "text/x-python",
   "name": "python",
   "nbconvert_exporter": "python",
   "pygments_lexer": "ipython3",
   "version": "3.7.6"
  }
 },
 "nbformat": 4,
 "nbformat_minor": 4
}
